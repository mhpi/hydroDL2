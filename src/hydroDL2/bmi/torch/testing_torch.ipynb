{
 "cells": [
  {
   "cell_type": "code",
   "execution_count": null,
   "metadata": {},
   "outputs": [],
   "source": [
    "import torch\n",
    "import numpy as np"
   ]
  },
  {
   "cell_type": "code",
   "execution_count": 12,
   "metadata": {},
   "outputs": [],
   "source": [
    "x = torch.rand(5, 3, requires_grad=True)\n",
    "y = torch.sin(x)\n",
    "y_obs = torch.rand(5, 3)\n",
    "\n",
    "\n",
    "\n",
    "\n",
    "\n",
    "\n",
    "\n",
    "# Probably need a deep clone for this. Just wanted to pass identical tensor for conversion experiment.\n",
    "# x1 = x.clone()\n",
    "# y_obs1 = y_obs.clone()\n",
    "\n",
    "\n",
    "loss_fn = torch.nn.MSELoss()\n",
    "\n",
    "loss = loss_fn(y, y_obs)\n",
    "loss.backward(retain_graph=True)"
   ]
  },
  {
   "cell_type": "code",
   "execution_count": 13,
   "metadata": {},
   "outputs": [
    {
     "data": {
      "text/plain": [
       "tensor([[-0.0120, -0.0257,  0.0193],\n",
       "        [-0.0797, -0.0022,  0.0528],\n",
       "        [-0.0197, -0.0578,  0.0412],\n",
       "        [-0.0019, -0.0170, -0.0672],\n",
       "        [-0.0163,  0.0312, -0.0489]])"
      ]
     },
     "execution_count": 13,
     "metadata": {},
     "output_type": "execute_result"
    }
   ],
   "source": [
    "x.grad ### outputs normal array of gradients"
   ]
  },
  {
   "cell_type": "code",
   "execution_count": 18,
   "metadata": {},
   "outputs": [
    {
     "ename": "TypeError",
     "evalue": "sin(): argument 'input' (position 1) must be Tensor, not NoneType",
     "output_type": "error",
     "traceback": [
      "\u001b[0;31m---------------------------------------------------------------------------\u001b[0m",
      "\u001b[0;31mTypeError\u001b[0m                                 Traceback (most recent call last)",
      "Cell \u001b[0;32mIn[18], line 5\u001b[0m\n\u001b[1;32m      2\u001b[0m z \u001b[38;5;241m=\u001b[39m torch\u001b[38;5;241m.\u001b[39mrand(\u001b[38;5;241m5\u001b[39m, \u001b[38;5;241m3\u001b[39m, requires_grad\u001b[38;5;241m=\u001b[39m\u001b[38;5;28;01mTrue\u001b[39;00m)\n\u001b[1;32m      3\u001b[0m y_obs1 \u001b[38;5;241m=\u001b[39m torch\u001b[38;5;241m.\u001b[39msin(z)\n\u001b[0;32m----> 5\u001b[0m y1 \u001b[38;5;241m=\u001b[39m \u001b[43mtorch\u001b[49m\u001b[38;5;241;43m.\u001b[39;49m\u001b[43msin\u001b[49m\u001b[43m(\u001b[49m\u001b[43mx1\u001b[49m\u001b[43m)\u001b[49m\n\u001b[1;32m      7\u001b[0m \u001b[38;5;66;03m# detach step\u001b[39;00m\n\u001b[1;32m      8\u001b[0m y1\u001b[38;5;241m.\u001b[39mretain_grad()\n",
      "\u001b[0;31mTypeError\u001b[0m: sin(): argument 'input' (position 1) must be Tensor, not NoneType"
     ]
    }
   ],
   "source": [
    "x1 = torch.rand(5, 3, requires_grad=True)\n",
    "z = torch.rand(5, 3, requires_grad=True)\n",
    "y_obs1 = torch.sin(z)\n",
    "\n",
    "y1 = torch.sin(x1)\n",
    "\n",
    "# detach step\n",
    "y1.retain_grad()\n",
    "# y1_grad = y1.grad\n",
    "y1_np = y1.detach().numpy()\n",
    "\n",
    "# # recombine step\n",
    "# y1_recomb = torch.from_numpy(y1_np)\n",
    "# y1_recomb.grad = y1_grad\n",
    "\n",
    "y1_recomb = torch.tensor(y1_np, requires_grad=True)\n",
    "\n",
    "loss_fn = torch.nn.MSELoss()\n",
    "# loss_fn = CustomMSELoss()\n",
    "\n",
    "loss = loss_fn(y1_recomb, y_obs1)\n",
    "loss.backward()\n"
   ]
  },
  {
   "cell_type": "code",
   "execution_count": 17,
   "metadata": {},
   "outputs": [
    {
     "name": "stdout",
     "output_type": "stream",
     "text": [
      "None\n"
     ]
    }
   ],
   "source": [
    "print(x1.grad)"
   ]
  },
  {
   "cell_type": "code",
   "execution_count": 24,
   "metadata": {},
   "outputs": [
    {
     "name": "stdout",
     "output_type": "stream",
     "text": [
      "Gradients for x1:\n",
      " None\n"
     ]
    }
   ],
   "source": [
    "class CallBMIFunc(torch.nn.Module):\n",
    "    \"\"\"\n",
    "    Custom wrapper to call a BMI function\n",
    "    \"\"\"\n",
    "    def __init__(self):\n",
    "        super(CallBMIFunc, self).__init__()\n",
    "\n",
    "    def forward(self, x, func):\n",
    "        # Perform your operation that involves detaching/recombining\n",
    "        y = func(x)\n",
    "\n",
    "        # Detach and manipulate\n",
    "        y_np = y.detach().numpy()\n",
    "        y_recomb = torch.tensor(y_np, requires_grad=True)\n",
    "\n",
    "        return y_recomb\n",
    "\n",
    "\n",
    "# Usage:\n",
    "x1 = torch.rand(5, 3, requires_grad=True)\n",
    "model = CallBMIFunc()\n",
    "\n",
    "# Compute output and loss\n",
    "# y1 = torch.sin(x1)\n",
    "y_obs1 = torch.sin(z)\n",
    "y1_recomb = model(x1)\n",
    "\n",
    "\n",
    "loss_fn = torch.nn.MSELoss()\n",
    "loss = loss_fn(y1_recomb, y_obs1)\n",
    "\n",
    "# Backpropagation\n",
    "loss.backward()\n",
    "\n",
    "# This approach still won't backprop to x1 since detach is used\n",
    "print(\"Gradients for x1:\\n\", x1.grad)\n"
   ]
  },
  {
   "cell_type": "code",
   "execution_count": null,
   "metadata": {},
   "outputs": [],
   "source": []
  }
 ],
 "metadata": {
  "kernelspec": {
   "display_name": "mulhydrodl",
   "language": "python",
   "name": "python3"
  },
  "language_info": {
   "codemirror_mode": {
    "name": "ipython",
    "version": 3
   },
   "file_extension": ".py",
   "mimetype": "text/x-python",
   "name": "python",
   "nbconvert_exporter": "python",
   "pygments_lexer": "ipython3",
   "version": "3.9.19"
  }
 },
 "nbformat": 4,
 "nbformat_minor": 2
}
